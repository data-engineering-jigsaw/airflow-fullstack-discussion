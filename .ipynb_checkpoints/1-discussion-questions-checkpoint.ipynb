{
 "cells": [
  {
   "cell_type": "markdown",
   "id": "f347c04b-54c0-421b-8f4b-7cf016345f8e",
   "metadata": {},
   "source": [
    "# Discussion Questions"
   ]
  },
  {
   "cell_type": "markdown",
   "id": "a3b9e8f8-cdf6-4db9-8e88-dd7a90993722",
   "metadata": {},
   "source": [
    "### Introduction"
   ]
  },
  {
   "cell_type": "markdown",
   "id": "4f8bbfbb-7be5-48b3-8600-d1052c497f1c",
   "metadata": {},
   "source": [
    "In this lesson, we'll work through navigating the codebase."
   ]
  },
  {
   "cell_type": "markdown",
   "id": "ebd56a68-aa21-414f-95ff-042e04254fc9",
   "metadata": {},
   "source": [
    "### Navigating the codebase\n",
    "\n",
    "In navigating the codebase, it's good to start broadly and move narrowly.\n",
    "\n",
    "**1. Airflow**\n",
    "\n",
    "The first for seeing the entire flow is to go to airflow.  There, we can see the extract load, `transform_load` and load `data_to_db` tasks.  \n",
    "\n",
    "Notice that each of the tasks are relatively small -- essentially, they just call another function and provide some logging.  \n",
    "\n",
    "a) What are the benefits of keeping our codebase isolated from airflow.\n",
    "\n",
    "b) Are there downsides to having so much of our code outside of airflow?\n",
    "\n",
    "c) Why did we split our code into three different tasks?  Could we have just used a single task -- for example perform ELTL in one step? "
   ]
  },
  {
   "cell_type": "markdown",
   "id": "1980a4ef-7bbb-40f8-a15b-83a660650323",
   "metadata": {},
   "source": [
    "**2. Lambda**\n",
    "\n",
    "* What are the benefits to hosting much of our code on lambda functions?  Are there downsides?"
   ]
  },
  {
   "cell_type": "markdown",
   "id": "98151d89-76f5-4d00-bbf6-a010ac8a8330",
   "metadata": {},
   "source": [
    "**3. What about dockerizing our code?**\n",
    "* What are the benefits"
   ]
  },
  {
   "cell_type": "markdown",
   "id": "ae397c47-17bd-4ca9-9df7-4786563600f9",
   "metadata": {},
   "source": [
    "**4. Architecture**\n",
    "\n",
    "The architecture we chose is one of extract-load and then transform-load.  \n",
    "\n",
    "a) What is the benefit to storing both raw and transformed data? \n",
    "\n",
    "b) Should we have left the transformation until after the data is loaded in the database (and transform with dbt/sql?).  Any benefits you could see to doing so?  Any downsides?  (It's ok if you're not quite sure, we'll talk more about this).  "
   ]
  },
  {
   "cell_type": "markdown",
   "id": "90bdcca5-3ed4-451b-8994-b555221b5ca6",
   "metadata": {},
   "source": [
    "**5. Code navigation**\n",
    "\n",
    "In navigating the solution codebase, and looking at the `extract_load` service or the `transform_load` service -- which file should we start at?  (A one word answer is fine)."
   ]
  }
 ],
 "metadata": {
  "kernelspec": {
   "display_name": "Python 3 (ipykernel)",
   "language": "python",
   "name": "python3"
  },
  "language_info": {
   "codemirror_mode": {
    "name": "ipython",
    "version": 3
   },
   "file_extension": ".py",
   "mimetype": "text/x-python",
   "name": "python",
   "nbconvert_exporter": "python",
   "pygments_lexer": "ipython3",
   "version": "3.9.12"
  }
 },
 "nbformat": 4,
 "nbformat_minor": 5
}
